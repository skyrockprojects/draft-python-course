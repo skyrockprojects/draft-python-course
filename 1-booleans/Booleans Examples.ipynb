{
 "cells": [
  {
   "cell_type": "markdown",
   "metadata": {},
   "source": [
    "# Booleans Example"
   ]
  },
  {
   "cell_type": "markdown",
   "metadata": {},
   "source": [
    "Booleans (bool) are a very simple data type. They can only be be True or False\n",
    "(True and False have to be capitalized)"
   ]
  },
  {
   "cell_type": "code",
   "execution_count": 17,
   "metadata": {},
   "outputs": [],
   "source": [
    "exampleTrue = True\n",
    "exampleFalse = False"
   ]
  },
  {
   "cell_type": "markdown",
   "metadata": {},
   "source": [
    "### If"
   ]
  },
  {
   "cell_type": "markdown",
   "metadata": {},
   "source": [
    "The if statement will only run its code if its input is true."
   ]
  },
  {
   "cell_type": "code",
   "execution_count": 18,
   "metadata": {},
   "outputs": [
    {
     "name": "stdout",
     "output_type": "stream",
     "text": [
      "This prints because exampleTrue, the argument (input), is True\n"
     ]
    }
   ],
   "source": [
    "if exampleTrue:\n",
    "    print(\"This prints because exampleTrue, the argument (input), is True\")\n",
    "\n",
    "if exampleFalse:\n",
    "    print(\"This doesn't print because exampleFalse is False\")"
   ]
  },
  {
   "cell_type": "markdown",
   "metadata": {},
   "source": [
    "### Else"
   ]
  },
  {
   "cell_type": "markdown",
   "metadata": {},
   "source": [
    "The else statement runs its code if the if statement's argument is false."
   ]
  },
  {
   "cell_type": "code",
   "execution_count": 19,
   "metadata": {},
   "outputs": [
    {
     "name": "stdout",
     "output_type": "stream",
     "text": [
      "This runs instead.\n",
      "This prints because exampleTrue is True\n"
     ]
    }
   ],
   "source": [
    "if exampleFalse:\n",
    "    print(\"This doesn't print because exampleFalse is False\")\n",
    "else:\n",
    "    print(\"This runs instead.\")\n",
    "\n",
    "if exampleTrue:\n",
    "    print(\"This prints because exampleTrue is True\")\n",
    "else:\n",
    "    print(\"This does not run\")"
   ]
  },
  {
   "cell_type": "markdown",
   "metadata": {},
   "source": [
    "### Else If (Elif)"
   ]
  },
  {
   "cell_type": "markdown",
   "metadata": {},
   "source": [
    "You can put another if,else statement inside the first else statement to get more outcomes."
   ]
  },
  {
   "cell_type": "code",
   "execution_count": 20,
   "metadata": {},
   "outputs": [
    {
     "name": "stdout",
     "output_type": "stream",
     "text": [
      "This runs\n"
     ]
    }
   ],
   "source": [
    "alsoFalse = exampleFalse\n",
    "if exampleFalse:\n",
    "    print(\"This doesn't run\")\n",
    "else:\n",
    "    if alsoFalse:\n",
    "        print(\"This also doesn't run\")\n",
    "    else:\n",
    "        print(\"This runs\")"
   ]
  },
  {
   "cell_type": "markdown",
   "metadata": {},
   "source": [
    "In python there is a shorter way to do it called elif (else if)."
   ]
  },
  {
   "cell_type": "markdown",
   "metadata": {},
   "source": [
    "The code below is the same thing as the previous if, else if, else."
   ]
  },
  {
   "cell_type": "code",
   "execution_count": 21,
   "metadata": {},
   "outputs": [
    {
     "name": "stdout",
     "output_type": "stream",
     "text": [
      "This runs\n"
     ]
    }
   ],
   "source": [
    "if exampleFalse:\n",
    "    print(\"This doesn't run\")\n",
    "#elif = else if\n",
    "elif alsoFalse:\n",
    "    print(\"This also doesn't run\")\n",
    "else:\n",
    "    print(\"This runs\")"
   ]
  },
  {
   "cell_type": "markdown",
   "metadata": {},
   "source": [
    "You can have as many elif's as you want."
   ]
  },
  {
   "cell_type": "code",
   "execution_count": 22,
   "metadata": {},
   "outputs": [
    {
     "name": "stdout",
     "output_type": "stream",
     "text": [
      "This runs\n"
     ]
    }
   ],
   "source": [
    "if exampleFalse:\n",
    "    print(\"This doesn't run\")\n",
    "elif alsoFalse:\n",
    "    print(\"This also doesn't run\")\n",
    "elif alsoFalse:\n",
    "    print(\"This also doesn't run\")\n",
    "elif alsoFalse:\n",
    "    print(\"This also doesn't run\")\n",
    "elif alsoFalse:\n",
    "    print(\"This also doesn't run\")\n",
    "elif alsoFalse:\n",
    "    print(\"This also doesn't run\")\n",
    "else:\n",
    "    print(\"This runs\")"
   ]
  },
  {
   "cell_type": "markdown",
   "metadata": {},
   "source": [
    "Else if else is very useful for different specified outputs for inputs\n",
    "Like this function:"
   ]
  },
  {
   "cell_type": "code",
   "execution_count": 23,
   "metadata": {},
   "outputs": [
    {
     "name": "stdout",
     "output_type": "stream",
     "text": [
      "Saturday on Vacation, is there School? False\n",
      "Monday not on Vacation, is there School? True\n"
     ]
    }
   ],
   "source": [
    "#isThereSchool takes an integer representing the day of the week and a boolean of whether it is a vacation day\n",
    "#monday = 1, sunday = 7\n",
    "def isThereSchool(day,vacation):\n",
    "    #  >= is greaterthan or equal to, so if it is later in the week than saturday (6)\n",
    "    # it will set school to false because it is the weekend \n",
    "    if(day >= 6):\n",
    "        return False\n",
    "    #if it is vacation there will be no school\n",
    "    elif(vacation):\n",
    "        return False\n",
    "    else:\n",
    "        return True\n",
    "\n",
    "print(\"Saturday on Vacation, is there School? \" + str(isThereSchool(6,True)))\n",
    "print(\"Monday not on Vacation, is there School? \" + str(isThereSchool(1,False)))"
   ]
  },
  {
   "cell_type": "markdown",
   "metadata": {},
   "source": [
    "### Or"
   ]
  },
  {
   "cell_type": "markdown",
   "metadata": {},
   "source": [
    "The \"or\" operator returns true if any of its surrounding arguments are tru, and it returns false if both of the arguments are false."
   ]
  },
  {
   "cell_type": "code",
   "execution_count": 24,
   "metadata": {},
   "outputs": [
    {
     "name": "stdout",
     "output_type": "stream",
     "text": [
      "Saturday on Vacation, is there School? False\n",
      "Monday not on Vacation, is there School? True\n"
     ]
    }
   ],
   "source": [
    "#you can simplify the noschool function using the \"or operator\"\n",
    "\n",
    "def simpleSchool(day,vacation):\n",
    "    #if it is the weekend or vacation it will return false because there is no school\n",
    "    if(day >= 6 or vacation):\n",
    "        return False\n",
    "    else:\n",
    "        return True\n",
    "print(\"Saturday on Vacation, is there School? \" + str(simpleSchool(6,True)))\n",
    "print(\"Monday not on Vacation, is there School? \" + str(simpleSchool(1,False)))"
   ]
  },
  {
   "cell_type": "code",
   "execution_count": 25,
   "metadata": {},
   "outputs": [],
   "source": [
    "#you can simplify it even futher by only writing the if statement\n",
    "def superSimpleSchool(day,vacation):\n",
    "    #if it is the weekend or vacation it will return false because there is no school\n",
    "    if(day >= 6 or vacation):\n",
    "        #once the function returns, it doesn't run anything after so it's ok to do this\n",
    "        return False\n",
    "    return True"
   ]
  },
  {
   "cell_type": "markdown",
   "metadata": {},
   "source": [
    "### And"
   ]
  },
  {
   "cell_type": "markdown",
   "metadata": {},
   "source": [
    "The \"and\" operator checks if both the surrounding arguments are true, and if they are, it returns true."
   ]
  },
  {
   "cell_type": "code",
   "execution_count": 26,
   "metadata": {},
   "outputs": [
    {
     "name": "stdout",
     "output_type": "stream",
     "text": [
      "This prints because exampleTrue and alsoTrue are both true\n"
     ]
    }
   ],
   "source": [
    "alsoTrue = exampleTrue\n",
    "\n",
    "if exampleTrue and alsoTrue:\n",
    "    print(\"This prints because exampleTrue and alsoTrue are both true\")\n",
    "\n",
    "if exampleTrue and exampleFalse:\n",
    "    print(\"This doesn't print because although exampleTrue is true exampleFalse isn't\")"
   ]
  },
  {
   "cell_type": "markdown",
   "metadata": {},
   "source": [
    "Now do Codingbat [cigar_party](http://codingbat.com/prob/p195669)"
   ]
  },
  {
   "cell_type": "markdown",
   "metadata": {},
   "source": [
    "### Not"
   ]
  },
  {
   "cell_type": "markdown",
   "metadata": {},
   "source": [
    "The not operator flips the boolean, if it is true it returns false and vice versa"
   ]
  },
  {
   "cell_type": "code",
   "execution_count": 27,
   "metadata": {},
   "outputs": [
    {
     "name": "stdout",
     "output_type": "stream",
     "text": [
      "This prints because not returned true because exampleFalse is false\n"
     ]
    }
   ],
   "source": [
    "if not exampleFalse:\n",
    "    print(\"This prints because not returned true because exampleFalse is false\")\n",
    "\n",
    "if not exampleTrue:\n",
    "    print(\"This did not print because not exampleTrue is false\")"
   ]
  }
 ],
 "metadata": {
  "kernelspec": {
   "display_name": "Python 3",
   "language": "python",
   "name": "python3"
  },
  "language_info": {
   "codemirror_mode": {
    "name": "ipython",
    "version": 3
   },
   "file_extension": ".py",
   "mimetype": "text/x-python",
   "name": "python",
   "nbconvert_exporter": "python",
   "pygments_lexer": "ipython3",
   "version": "3.5.2"
  }
 },
 "nbformat": 4,
 "nbformat_minor": 2
}
